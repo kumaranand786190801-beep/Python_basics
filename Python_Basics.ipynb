{
  "nbformat": 4,
  "nbformat_minor": 0,
  "metadata": {
    "colab": {
      "provenance": []
    },
    "kernelspec": {
      "name": "python3",
      "display_name": "Python 3"
    },
    "language_info": {
      "name": "python"
    }
  },
  "cells": [
    {
      "cell_type": "markdown",
      "source": [
        "**1.What is python and why it is popular?**\n",
        "- Python is a high level programming language known for its simplicity,readability and versitality. Python is so popular because it is easy to learn, it has a lot of libraries and it has a huge active community. Python is widely used in data industries (frontend, backend, databases, image processing, automation, etc).\n",
        "\n",
        "**2.What is an interpreter in python?**\n",
        "\n",
        "- An interpreter is a program that reads and executes python code line by line. The python interpreter converts the human-readable python code into bytecode, which is then executed by python runtime.\n",
        "\n",
        "**3.What are pre-defined keywords in python?**\n",
        "\n",
        "- Pre-defined keywords in python are reserved words that have a special meaning and can't be used as identifiers(like variables, functions, methods etc). for example- if, else, for, while, def, class, break, continue etc.\n",
        "\n",
        "**4.Can keywords be used as variable names?**\n",
        "\n",
        "-No, keywords cant't be used as variable names because keywords are fixed for special work in python and attempting to use them as a variable name will cause a syntax error.\n",
        "\n",
        "**5.What is mutability in Python?**\n",
        "\n",
        "- In python mutability refers to wheather the object can be changed after it is created. In python list, sets, dictionary, etc are mutable objects and int, float, string, tuple, etc are immutable objects. immutability means unchangable.\n",
        "\n",
        "**6.Why are lists mutable, but tuples are immutable?**\n",
        "\n",
        "- Lists are flexible and changable because they are designed for dynamic collection where we often add remove or update elements. whereas in typles they are ment to hold fixed and unchangable data which make them safer, faster and usable as dictionary keys. Thatswhy tuples are immutable and lists are mutable\n",
        "\n",
        "**7.What is the difference between “==” and “is” operators in Python?**\n",
        "\n",
        "- In python '==' operator is called equility operator and is used to compare the values of two objects. It returns True if the contents are same even if they are stored in different memory locations.\n",
        " 'is' operator is called identity operator which compares object identity (memory addresses). It returns True if both variables points to the exact same object in the memory.\n",
        "\n",
        " **8.What are logical operators in Python?**\n",
        "\n",
        " - In python logical operators are used to compare conditional statements and returns boolean values (True or False).\n",
        "There are three types of logical operators:-\n",
        "(i) and:- Returns True if both conditions are true.\n",
        "(ii) or:- Returns True if atleast one condition is true.\n",
        "(iii) not:- Returns the opposite of condition. for ex:-print(not True) #false.\n",
        "\n",
        "**9.What is type casting in Python?**\n",
        "- In python type casting means converting a value from one datatype to another with the use of functions like int(), float(), str(). For ex:-\n",
        "\n",
        "a=\"123\"\n",
        "\n",
        "b=int(a)\n",
        "\n",
        "print(b, type(b))\n",
        "\n",
        "output->  123 <class 'int'>\n",
        "\n",
        "**10.What is the difference between implicit and explicit type casting?**\n",
        "- implicit type casting done automatically by python. It happens when a smaller data type is converter into larger one to avoid data loss.\n",
        " explicit type casting has to be done manually to convert a value from one datatype to another with the use of functions like int(), float(), str().\n",
        "\n",
        "**11.What is the purpose of conditional statements in Python?**\n",
        "\n",
        "- The purpose of conditional statements is to control the flow of execution. They let a program make decision and execute different block of code based on wheather a condition is True or False.\n",
        "\n",
        "**12.How does the elif statement work?**\n",
        "\n",
        "-At first python checks the if condition wheather it is true or false. If fasle then it moves to the first elif condition and checks it. If that is also false it keeps checking the elif conditions(if any). If none of the block are true then the else block (if present) is executed.\n",
        "\n",
        "**13.What is the difference between for and while loops?**\n",
        "\n",
        "- for loop is used when you know how many times you want to repeat something. For loop repeat for a fixed number of iterations or sequence items, sequence like list, string, range.\n",
        "While loop is used when you don't know beforehand how many times to loop. while loop runs as long as condition is true.\n",
        "\n",
        "**14.Describe a scenario where a while loop is more suitable than a for loop?**\n",
        "\n",
        "- A while loop is more suitable when we don't know in advance how many times the loop should run, and the repetition depends on a condition being met.\n",
        "example scenario:- Mobile phone password,\n",
        "\n",
        "we can allow a user to keep entering his password until its correct, but we don't know how many attempts it is going to take."
      ],
      "metadata": {
        "id": "Z4bbAuNF0CpA"
      }
    },
    {
      "cell_type": "markdown",
      "source": [
        "**1.Write a Python program to print \"Hello, World!\".**"
      ],
      "metadata": {
        "id": "ueKqOnjuPbaR"
      }
    },
    {
      "cell_type": "code",
      "source": [
        "print(\"Hello world!\")"
      ],
      "metadata": {
        "colab": {
          "base_uri": "https://localhost:8080/"
        },
        "id": "v4fDYL7PPKrJ",
        "outputId": "36428b11-ec17-4f98-af1d-b3f7b7be824f"
      },
      "execution_count": null,
      "outputs": [
        {
          "output_type": "stream",
          "name": "stdout",
          "text": [
            "Hello world!\n"
          ]
        }
      ]
    },
    {
      "cell_type": "markdown",
      "source": [
        "**2.Write a Python program that displays your name and age.**"
      ],
      "metadata": {
        "id": "m-AJnmhiPhF9"
      }
    },
    {
      "cell_type": "code",
      "source": [
        "name=\"Anand\"\n",
        "age=\"24\"\n",
        "print(\"my name is\",name)\n",
        "print(\"I am\", age, \"years old\")"
      ],
      "metadata": {
        "colab": {
          "base_uri": "https://localhost:8080/"
        },
        "id": "WJMjIqOweSp1",
        "outputId": "d37dadb5-d283-480f-8ec5-58170016612e"
      },
      "execution_count": null,
      "outputs": [
        {
          "output_type": "stream",
          "name": "stdout",
          "text": [
            "my name is Anand\n",
            "I am 24 years old\n"
          ]
        }
      ]
    },
    {
      "cell_type": "markdown",
      "source": [
        "**3.Write code to print all the pre-defined keywords in Python using the keyword library.**"
      ],
      "metadata": {
        "id": "EycnYoHueziu"
      }
    },
    {
      "cell_type": "code",
      "source": [
        "import keyword\n",
        "'''This imports keyword library which contains all the pre-defined keywords in python'''\n",
        "keywords=keyword.kwlist\n",
        "#keyword.kwlist is a function of keyword module in python which is used to store all the keywords of python in a list.\n",
        "print(\"The pre-defined keywords in python are: \")\n",
        "for kw in keywords:\n",
        "  print(kw)\n"
      ],
      "metadata": {
        "colab": {
          "base_uri": "https://localhost:8080/"
        },
        "id": "qoGUtIhEgVGr",
        "outputId": "4a5e7b53-ef27-4253-8c47-2a105a95d160"
      },
      "execution_count": null,
      "outputs": [
        {
          "output_type": "stream",
          "name": "stdout",
          "text": [
            "The pre-defined keywords in python are: \n",
            "False\n",
            "None\n",
            "True\n",
            "and\n",
            "as\n",
            "assert\n",
            "async\n",
            "await\n",
            "break\n",
            "class\n",
            "continue\n",
            "def\n",
            "del\n",
            "elif\n",
            "else\n",
            "except\n",
            "finally\n",
            "for\n",
            "from\n",
            "global\n",
            "if\n",
            "import\n",
            "in\n",
            "is\n",
            "lambda\n",
            "nonlocal\n",
            "not\n",
            "or\n",
            "pass\n",
            "raise\n",
            "return\n",
            "try\n",
            "while\n",
            "with\n",
            "yield\n"
          ]
        }
      ]
    },
    {
      "cell_type": "markdown",
      "source": [
        "**4.Write a program that checks if a given word is a Python keyword.**"
      ],
      "metadata": {
        "id": "EKqgtRDIyQuC"
      }
    },
    {
      "cell_type": "code",
      "source": [
        "import keyword\n",
        "keywords = keyword.kwlist\n",
        "word = input(\"Enter a word: \")\n",
        "#whatever we type will be stored in the variable word\n",
        "if word in keywords:\n",
        "  print(word, \"is a Python keyword.\")\n",
        "else:\n",
        "  print(word, \"is not a Python keyword\")\n"
      ],
      "metadata": {
        "colab": {
          "base_uri": "https://localhost:8080/"
        },
        "id": "iVfkqLS6yUyp",
        "outputId": "3bd437f6-1091-45c7-a446-c73cc444e7e8"
      },
      "execution_count": null,
      "outputs": [
        {
          "output_type": "stream",
          "name": "stdout",
          "text": [
            "Enter a word: for\n",
            "for is a Python keyword.\n"
          ]
        }
      ]
    },
    {
      "cell_type": "markdown",
      "source": [
        "**5.Create a list and tuple in Python, and demonstrate how attempting to change an element works differently for each.**"
      ],
      "metadata": {
        "id": "djfBQVuP1t-J"
      }
    },
    {
      "cell_type": "code",
      "source": [
        "#we created a list and a  tuple\n",
        "list1 = [11,12,13]\n",
        "tuple1 = (14,15,16)\n",
        "#changing an element in the list is allowed\n",
        "print(\"origional list: \", list1)\n",
        "list1[1]=32\n",
        "print(\"modified list: \", list1)\n",
        "#changing an element in tuple is not allowed\n",
        "print(\"origional tuple: \", tuple1)\n",
        "tuple1[1]=40\n",
        "print(\"modified tuple: \", tuple1)\n"
      ],
      "metadata": {
        "id": "Eol2gN0A2kmR",
        "colab": {
          "base_uri": "https://localhost:8080/",
          "height": 245
        },
        "outputId": "24856af5-42f7-4c84-9984-1edd5f74e192"
      },
      "execution_count": null,
      "outputs": [
        {
          "output_type": "stream",
          "name": "stdout",
          "text": [
            "origional list:  [11, 12, 13]\n",
            "modified list:  [11, 32, 13]\n",
            "origional tuple:  (14, 15, 16)\n"
          ]
        },
        {
          "output_type": "error",
          "ename": "TypeError",
          "evalue": "'tuple' object does not support item assignment",
          "traceback": [
            "\u001b[0;31m---------------------------------------------------------------------------\u001b[0m",
            "\u001b[0;31mTypeError\u001b[0m                                 Traceback (most recent call last)",
            "\u001b[0;32m/tmp/ipython-input-3705137410.py\u001b[0m in \u001b[0;36m<cell line: 0>\u001b[0;34m()\u001b[0m\n\u001b[1;32m      8\u001b[0m \u001b[0;31m#changing an element in tuple is not allowed\u001b[0m\u001b[0;34m\u001b[0m\u001b[0;34m\u001b[0m\u001b[0m\n\u001b[1;32m      9\u001b[0m \u001b[0mprint\u001b[0m\u001b[0;34m(\u001b[0m\u001b[0;34m\"origional tuple: \"\u001b[0m\u001b[0;34m,\u001b[0m \u001b[0mtuple1\u001b[0m\u001b[0;34m)\u001b[0m\u001b[0;34m\u001b[0m\u001b[0;34m\u001b[0m\u001b[0m\n\u001b[0;32m---> 10\u001b[0;31m \u001b[0mtuple1\u001b[0m\u001b[0;34m[\u001b[0m\u001b[0;36m1\u001b[0m\u001b[0;34m]\u001b[0m\u001b[0;34m=\u001b[0m\u001b[0;36m40\u001b[0m\u001b[0;34m\u001b[0m\u001b[0;34m\u001b[0m\u001b[0m\n\u001b[0m\u001b[1;32m     11\u001b[0m \u001b[0mprint\u001b[0m\u001b[0;34m(\u001b[0m\u001b[0;34m\"modified tuple: \"\u001b[0m\u001b[0;34m,\u001b[0m \u001b[0mtuple1\u001b[0m\u001b[0;34m)\u001b[0m\u001b[0;34m\u001b[0m\u001b[0;34m\u001b[0m\u001b[0m\n",
            "\u001b[0;31mTypeError\u001b[0m: 'tuple' object does not support item assignment"
          ]
        }
      ]
    },
    {
      "cell_type": "markdown",
      "source": [
        "**6.Write a function to demonstrate the behavior of mutable and immutable arguments.**"
      ],
      "metadata": {
        "id": "zaYuUuteoh8N"
      }
    },
    {
      "cell_type": "code",
      "source": [
        "#Function that tries to modify its arguments.\n",
        "def behav_(myint, mylist):\n",
        "  myint+= 10\n",
        "  mylist.append(50)\n",
        "\n",
        "  print(\"inside the function: \")\n",
        "  print(\"myint: \", myint)\n",
        "  print(\"mylist: \", mylist)\n",
        "\n",
        "# Main program\n",
        "x = 5\n",
        "y = [10,20,30]\n",
        "\n",
        "print(\"Before function call: \")\n",
        "print(\"x=\",x)\n",
        "print(\"y=\",y)\n",
        "\n",
        "behav_(x, y)\n",
        "\n",
        "print(\"After function call: \")\n",
        "print(\"x=\",x)   #int is immtable thatswhy remains same\n",
        "print(\"y=\",y)   #list is mutable thats why vaule modified.\n",
        "\n"
      ],
      "metadata": {
        "colab": {
          "base_uri": "https://localhost:8080/"
        },
        "id": "_VfkiMM1ouQi",
        "outputId": "4107a0f1-e126-409f-dab3-eaab576ac171"
      },
      "execution_count": null,
      "outputs": [
        {
          "output_type": "stream",
          "name": "stdout",
          "text": [
            "Before function call: \n",
            "x= 5\n",
            "y= [10, 20, 30]\n",
            "inside the function: \n",
            "myint:  15\n",
            "mylist:  [10, 20, 30, 50]\n",
            "After function call: \n",
            "x= 5\n",
            "y= [10, 20, 30, 50]\n"
          ]
        }
      ]
    },
    {
      "cell_type": "markdown",
      "source": [
        "**7. Write a program that performs basic arithmetic operations on two user-input numbers.**"
      ],
      "metadata": {
        "id": "mTMQ9zFaiWVs"
      }
    },
    {
      "cell_type": "code",
      "source": [
        "a = float(input(\"enter first number: \"))\n",
        "b = float(input(\"enter second number: \"))\n",
        "\n",
        "print(\"Addition: \",a+b)\n",
        "print(\"Substraction: \",a-b)\n",
        "print(\"Multiplication: \",a*b)\n",
        "print(\"Modulus: \",a%b)\n",
        "print(\"Exponent: \",a**b)\n",
        "#we have to do division carefully.\n",
        "if b!=0:\n",
        "  print(\"Division: \",a/b)\n",
        "else:\n",
        "  print(\"Division not possible\")\n"
      ],
      "metadata": {
        "id": "EgKpx9lMipCs",
        "colab": {
          "base_uri": "https://localhost:8080/"
        },
        "outputId": "4d6b9eb7-e12a-4e53-af72-8cf747c72588"
      },
      "execution_count": null,
      "outputs": [
        {
          "output_type": "stream",
          "name": "stdout",
          "text": [
            "enter first number: 7\n",
            "enter second number: 2\n",
            "Addition:  9.0\n",
            "Substraction:  5.0\n",
            "Multiplication:  14.0\n",
            "Modulus:  1.0\n",
            "Exponent:  49.0\n",
            "Division:  3.5\n"
          ]
        }
      ]
    },
    {
      "cell_type": "markdown",
      "source": [
        "**8.Write a program to demonstrate the use of logical operators.**"
      ],
      "metadata": {
        "id": "17Qme31sg6L2"
      }
    },
    {
      "cell_type": "code",
      "source": [
        "a= int(input(\"enter first number: \"))\n",
        "b= int(input(\"enter second number: \"))\n",
        "#AND Operator\n",
        "if a>0 and b>0:\n",
        "  print(\"Both numbers are positive (AND condition is True)\")\n",
        "else:\n",
        "  print(\"At least one number is not positive (AND condition is False)\")\n",
        "#OR Operator\n",
        "if a>0 or b>0:\n",
        "  print(\"At leat one number is positive (OR condition is True)\")\n",
        "else:\n",
        "  print(\"Both numbers are not positive (OR condition is false)\")\n",
        "\n",
        "#NOT Operator\n",
        "print(\"__NOT Operator__\")\n",
        "print(\"first number > 0\",a>0)\n",
        "print(\"NOT of first number > 0\",not (a>0))\n"
      ],
      "metadata": {
        "colab": {
          "base_uri": "https://localhost:8080/"
        },
        "id": "6udjryy3ivB0",
        "outputId": "167964df-02d3-43ba-cc27-e6d454dbe243"
      },
      "execution_count": null,
      "outputs": [
        {
          "output_type": "stream",
          "name": "stdout",
          "text": [
            "enter first number: 25\n",
            "enter second number: -20\n",
            "At least one number is not positive (AND condition is False)\n",
            "At leat one number is positive (OR condition is True)\n",
            "__NOT Operator__\n",
            "first number > 0 True\n",
            "NOT of first number > 0 False\n"
          ]
        }
      ]
    },
    {
      "cell_type": "markdown",
      "source": [
        "**9.Write a Python program to convert user input from string to integer, float, and boolean types.**\n",
        "\n"
      ],
      "metadata": {
        "id": "Com3pG9MlMCY"
      }
    },
    {
      "cell_type": "code",
      "source": [
        "a=input(\"Enter something: \")\n",
        "int_input=int(a)\n",
        "float_input=float(a)\n",
        "bool_input=bool(a)\n",
        "\n",
        "print(\"As integer: \",int_input)\n",
        "print(\"As float: \",float_input)\n",
        "print(\"As boolean: \",bool_input)\n"
      ],
      "metadata": {
        "colab": {
          "base_uri": "https://localhost:8080/"
        },
        "id": "E8uoQi52l0BB",
        "outputId": "012abb12-1349-4a49-c4a3-1174fd205167"
      },
      "execution_count": null,
      "outputs": [
        {
          "output_type": "stream",
          "name": "stdout",
          "text": [
            "Enter something: 25\n",
            "As integer:  25\n",
            "As float:  25.0\n",
            "As boolean:  True\n"
          ]
        }
      ]
    },
    {
      "cell_type": "code",
      "source": [
        "#if we enter something which can't be converted into integer it will give us an error.\n",
        "#like if we enter some name \"anand\", it can't be converted into interger\n",
        "\n",
        "a=input(\"Enter something: \")\n",
        "int_input=int(a)\n",
        "float_input=float(a)\n",
        "bool_input=bool(a)\n",
        "\n",
        "print(\"As integer: \",int_input)\n",
        "print(\"As float: \",float_input)\n",
        "print(\"As boolean: \",bool_input)"
      ],
      "metadata": {
        "colab": {
          "base_uri": "https://localhost:8080/",
          "height": 356
        },
        "id": "kKaJ6z47n5uF",
        "outputId": "4b9194c3-bde1-4e47-d0dc-c39b1d057284"
      },
      "execution_count": null,
      "outputs": [
        {
          "output_type": "error",
          "ename": "KeyboardInterrupt",
          "evalue": "Interrupted by user",
          "traceback": [
            "\u001b[0;31m---------------------------------------------------------------------------\u001b[0m",
            "\u001b[0;31mKeyboardInterrupt\u001b[0m                         Traceback (most recent call last)",
            "\u001b[0;32m/tmp/ipython-input-260855347.py\u001b[0m in \u001b[0;36m<cell line: 0>\u001b[0;34m()\u001b[0m\n\u001b[1;32m      2\u001b[0m \u001b[0;31m#like if we enter some name \"anand\", it can't be converted into interger\u001b[0m\u001b[0;34m\u001b[0m\u001b[0;34m\u001b[0m\u001b[0m\n\u001b[1;32m      3\u001b[0m \u001b[0;34m\u001b[0m\u001b[0m\n\u001b[0;32m----> 4\u001b[0;31m \u001b[0ma\u001b[0m\u001b[0;34m=\u001b[0m\u001b[0minput\u001b[0m\u001b[0;34m(\u001b[0m\u001b[0;34m\"Enter something: \"\u001b[0m\u001b[0;34m)\u001b[0m\u001b[0;34m\u001b[0m\u001b[0;34m\u001b[0m\u001b[0m\n\u001b[0m\u001b[1;32m      5\u001b[0m \u001b[0mint_input\u001b[0m\u001b[0;34m=\u001b[0m\u001b[0mint\u001b[0m\u001b[0;34m(\u001b[0m\u001b[0ma\u001b[0m\u001b[0;34m)\u001b[0m\u001b[0;34m\u001b[0m\u001b[0;34m\u001b[0m\u001b[0m\n\u001b[1;32m      6\u001b[0m \u001b[0mfloat_input\u001b[0m\u001b[0;34m=\u001b[0m\u001b[0mfloat\u001b[0m\u001b[0;34m(\u001b[0m\u001b[0ma\u001b[0m\u001b[0;34m)\u001b[0m\u001b[0;34m\u001b[0m\u001b[0;34m\u001b[0m\u001b[0m\n",
            "\u001b[0;32m/usr/local/lib/python3.12/dist-packages/ipykernel/kernelbase.py\u001b[0m in \u001b[0;36mraw_input\u001b[0;34m(self, prompt)\u001b[0m\n\u001b[1;32m   1175\u001b[0m                 \u001b[0;34m\"raw_input was called, but this frontend does not support input requests.\"\u001b[0m\u001b[0;34m\u001b[0m\u001b[0;34m\u001b[0m\u001b[0m\n\u001b[1;32m   1176\u001b[0m             )\n\u001b[0;32m-> 1177\u001b[0;31m         return self._input_request(\n\u001b[0m\u001b[1;32m   1178\u001b[0m             \u001b[0mstr\u001b[0m\u001b[0;34m(\u001b[0m\u001b[0mprompt\u001b[0m\u001b[0;34m)\u001b[0m\u001b[0;34m,\u001b[0m\u001b[0;34m\u001b[0m\u001b[0;34m\u001b[0m\u001b[0m\n\u001b[1;32m   1179\u001b[0m             \u001b[0mself\u001b[0m\u001b[0;34m.\u001b[0m\u001b[0m_parent_ident\u001b[0m\u001b[0;34m[\u001b[0m\u001b[0;34m\"shell\"\u001b[0m\u001b[0;34m]\u001b[0m\u001b[0;34m,\u001b[0m\u001b[0;34m\u001b[0m\u001b[0;34m\u001b[0m\u001b[0m\n",
            "\u001b[0;32m/usr/local/lib/python3.12/dist-packages/ipykernel/kernelbase.py\u001b[0m in \u001b[0;36m_input_request\u001b[0;34m(self, prompt, ident, parent, password)\u001b[0m\n\u001b[1;32m   1217\u001b[0m             \u001b[0;32mexcept\u001b[0m \u001b[0mKeyboardInterrupt\u001b[0m\u001b[0;34m:\u001b[0m\u001b[0;34m\u001b[0m\u001b[0;34m\u001b[0m\u001b[0m\n\u001b[1;32m   1218\u001b[0m                 \u001b[0;31m# re-raise KeyboardInterrupt, to truncate traceback\u001b[0m\u001b[0;34m\u001b[0m\u001b[0;34m\u001b[0m\u001b[0m\n\u001b[0;32m-> 1219\u001b[0;31m                 \u001b[0;32mraise\u001b[0m \u001b[0mKeyboardInterrupt\u001b[0m\u001b[0;34m(\u001b[0m\u001b[0;34m\"Interrupted by user\"\u001b[0m\u001b[0;34m)\u001b[0m \u001b[0;32mfrom\u001b[0m \u001b[0;32mNone\u001b[0m\u001b[0;34m\u001b[0m\u001b[0;34m\u001b[0m\u001b[0m\n\u001b[0m\u001b[1;32m   1220\u001b[0m             \u001b[0;32mexcept\u001b[0m \u001b[0mException\u001b[0m\u001b[0;34m:\u001b[0m\u001b[0;34m\u001b[0m\u001b[0;34m\u001b[0m\u001b[0m\n\u001b[1;32m   1221\u001b[0m                 \u001b[0mself\u001b[0m\u001b[0;34m.\u001b[0m\u001b[0mlog\u001b[0m\u001b[0;34m.\u001b[0m\u001b[0mwarning\u001b[0m\u001b[0;34m(\u001b[0m\u001b[0;34m\"Invalid Message:\"\u001b[0m\u001b[0;34m,\u001b[0m \u001b[0mexc_info\u001b[0m\u001b[0;34m=\u001b[0m\u001b[0;32mTrue\u001b[0m\u001b[0;34m)\u001b[0m\u001b[0;34m\u001b[0m\u001b[0;34m\u001b[0m\u001b[0m\n",
            "\u001b[0;31mKeyboardInterrupt\u001b[0m: Interrupted by user"
          ]
        }
      ]
    },
    {
      "cell_type": "markdown",
      "source": [
        "**10.Write code to demonstrate type casting with list elements.**"
      ],
      "metadata": {
        "id": "4LGyNgumoMUi"
      }
    },
    {
      "cell_type": "code",
      "source": [
        "str_list=[\"10\",\"20\",\"30\",\"40\",\"50\"]\n",
        "#converting list elements into integers\n",
        "int_list=[]\n",
        "for x in str_list:\n",
        "  num=int(x)\n",
        "  int_list.append(num)\n",
        "\n",
        "print(int_list)\n",
        "\n",
        "#converting list elements into float\n",
        "float_list=[]\n",
        "for x in str_list:\n",
        "  num1=float(x)\n",
        "  float_list.append(num1)\n",
        "\n",
        "print(float_list)\n",
        "\n"
      ],
      "metadata": {
        "colab": {
          "base_uri": "https://localhost:8080/"
        },
        "id": "OnBuGnXvpMFL",
        "outputId": "9548d065-48c9-495d-94a8-231266a887c4"
      },
      "execution_count": null,
      "outputs": [
        {
          "output_type": "stream",
          "name": "stdout",
          "text": [
            "[10, 20, 30, 40, 50]\n",
            "[10.0, 20.0, 30.0, 40.0, 50.0]\n"
          ]
        }
      ]
    },
    {
      "cell_type": "markdown",
      "source": [
        "**11. Write a program that checks if a number is positive, negative, or zero.**"
      ],
      "metadata": {
        "id": "mM6Jn5WxrYzR"
      }
    },
    {
      "cell_type": "code",
      "source": [
        "# Take input from user\n",
        "a = int(input(\"Enter a number: \"))\n",
        "\n",
        "# Check the number\n",
        "if a > 0:\n",
        "    print(\"The number is Positive.\")\n",
        "elif a < 0:\n",
        "    print(\"The number is Negative.\")\n",
        "else:\n",
        "    print(\"The number is Zero.\")"
      ],
      "metadata": {
        "colab": {
          "base_uri": "https://localhost:8080/"
        },
        "id": "TlRSKoe7raun",
        "outputId": "56fd9c0b-11a3-451f-ceb7-446c9754f489"
      },
      "execution_count": null,
      "outputs": [
        {
          "output_type": "stream",
          "name": "stdout",
          "text": [
            "Enter a number: -7\n",
            "The number is Negative.\n"
          ]
        }
      ]
    },
    {
      "cell_type": "markdown",
      "source": [
        "**12.Write a for loop to print numbers from 1 to 10.**"
      ],
      "metadata": {
        "id": "JuhYykKosBTA"
      }
    },
    {
      "cell_type": "code",
      "source": [
        "for i in range(1, 11):\n",
        "    print(i)"
      ],
      "metadata": {
        "colab": {
          "base_uri": "https://localhost:8080/"
        },
        "id": "lbp-paaGtZXm",
        "outputId": "6c2649ff-bc11-40cd-bb14-c450ec86fc50"
      },
      "execution_count": null,
      "outputs": [
        {
          "output_type": "stream",
          "name": "stdout",
          "text": [
            "1\n",
            "2\n",
            "3\n",
            "4\n",
            "5\n",
            "6\n",
            "7\n",
            "8\n",
            "9\n",
            "10\n"
          ]
        }
      ]
    },
    {
      "cell_type": "markdown",
      "source": [
        "**13.Write a Python program to find the sum of all even numbers between 1 and 50**"
      ],
      "metadata": {
        "id": "6eJ23vLgtsly"
      }
    },
    {
      "cell_type": "code",
      "source": [
        "sum=0   #initialization of the sum is important.\n",
        "for i in range(1, 51):\n",
        "  if i%2==0:\n",
        "    sum+=i\n",
        "\n",
        "print(\"sum of all even numbers between 1 to 51: \",sum)"
      ],
      "metadata": {
        "colab": {
          "base_uri": "https://localhost:8080/"
        },
        "id": "kSs1grA7txS8",
        "outputId": "48f4e8cf-db48-4e0d-b4db-9e707586a2dd"
      },
      "execution_count": null,
      "outputs": [
        {
          "output_type": "stream",
          "name": "stdout",
          "text": [
            "sum of all even numbers between 1 to 51:  650\n"
          ]
        }
      ]
    },
    {
      "cell_type": "markdown",
      "source": [
        "**14.Write a program to reverse a string using a while loop.**"
      ],
      "metadata": {
        "id": "hz5-84aKXD2k"
      }
    },
    {
      "cell_type": "code",
      "source": [
        "#Take input first\n",
        "text = input(\"enter a string: \")\n",
        "\n",
        "#initialize the variables\n",
        "reversed_text = \"\"\n",
        "i = len(text) - 1\n",
        "'''let say text is \" Science\", so the length of text is 7. because there are 7characters in science. but the indexing starts form. that is why we wrote\n",
        "the previous line of code:- i = len(text)-1 (7-1=6)'''\n",
        "while i >= 0:\n",
        "  reversed_text+=text[i]\n",
        "  i-=1\n",
        "\n",
        "print(\"reversed text: \",reversed_text)"
      ],
      "metadata": {
        "colab": {
          "base_uri": "https://localhost:8080/"
        },
        "id": "cbSSnpt0XFqi",
        "outputId": "dde43b0a-3309-4c0b-eb53-c4aef86f31f4"
      },
      "execution_count": null,
      "outputs": [
        {
          "output_type": "stream",
          "name": "stdout",
          "text": [
            "enter a string: vivek\n",
            "reversed text:  keviv\n"
          ]
        }
      ]
    },
    {
      "cell_type": "markdown",
      "source": [
        "**15.Write a Python program to calculate the factorial of a number provided by the user using a while loop.**"
      ],
      "metadata": {
        "id": "EQCkHincb25M"
      }
    },
    {
      "cell_type": "code",
      "source": [
        "num = int(input(\"Enter a number: \"))\n",
        "#initialize the variable\n",
        "factorial = 1\n",
        "for i in range(1, num +1):\n",
        "  factorial*=i\n",
        "  i+=1\n",
        "\n",
        "print(\"factorial of\",num,\"=\",factorial)\n",
        "\n"
      ],
      "metadata": {
        "colab": {
          "base_uri": "https://localhost:8080/"
        },
        "id": "gEbcD2pib4hr",
        "outputId": "8ad4e17a-a11e-4b0a-a457-e6d7beb864f6"
      },
      "execution_count": null,
      "outputs": [
        {
          "output_type": "stream",
          "name": "stdout",
          "text": [
            "Enter a number: 5\n",
            "factorial of 5 = 120\n"
          ]
        }
      ]
    }
  ]
}